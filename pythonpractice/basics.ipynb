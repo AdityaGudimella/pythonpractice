{
 "cells": [
  {
   "attachments": {},
   "cell_type": "markdown",
   "metadata": {},
   "source": [
    "Write a 5 examples of the `print` function."
   ]
  },
  {
   "cell_type": "code",
   "execution_count": null,
   "metadata": {},
   "outputs": [],
   "source": []
  },
  {
   "attachments": {},
   "cell_type": "markdown",
   "metadata": {},
   "source": [
    "Write a program that asks you for your name and displays \"Hello [your name]\" to the output."
   ]
  },
  {
   "cell_type": "markdown",
   "metadata": {},
   "source": []
  },
  {
   "attachments": {},
   "cell_type": "markdown",
   "metadata": {},
   "source": [
    "Write a program that asks you for your name and age and displays \"Hello [Your name]. You are [x] years old\"."
   ]
  },
  {
   "cell_type": "markdown",
   "metadata": {},
   "source": []
  },
  {
   "attachments": {},
   "cell_type": "markdown",
   "metadata": {},
   "source": [
    "Create a variable named `name` and store your name in that variable. What is the type of this variable? How do you check the type of this variable? How do you add a type annotation to this variable?"
   ]
  },
  {
   "cell_type": "markdown",
   "metadata": {},
   "source": []
  },
  {
   "attachments": {},
   "cell_type": "markdown",
   "metadata": {},
   "source": [
    "Given the following python code:\n",
    "\n",
    "```python\n",
    "a = \"Hello\"\n",
    "b = 'Hello\"\n",
    "c = \"\"\"Hello\"\"\"\n",
    "d = '''Hello'''\n",
    "```\n",
    "\n",
    "What is the difference between `a, b, c` and `d`? What would happen if I run the following code?\n",
    "\n",
    "```python\n",
    "print(a == b)\n",
    "print(a == c)\n",
    "print(a == d)\n",
    "```"
   ]
  },
  {
   "cell_type": "markdown",
   "metadata": {},
   "source": []
  },
  {
   "attachments": {},
   "cell_type": "markdown",
   "metadata": {},
   "source": [
    "Create a variable named `age` and store your age in that variable. What is the type of this variable? How do you add a type annotation to this variable?"
   ]
  },
  {
   "cell_type": "markdown",
   "metadata": {},
   "source": []
  },
  {
   "attachments": {},
   "cell_type": "markdown",
   "metadata": {},
   "source": [
    "Give some examples of illegal variable names. What error does python raise if you create a variable with an invalid name?"
   ]
  },
  {
   "cell_type": "markdown",
   "metadata": {},
   "source": []
  },
  {
   "attachments": {},
   "cell_type": "markdown",
   "metadata": {},
   "source": [
    "Convert the following strings to numbers (either int or float depending on the number):\n",
    "\n",
    "```python\n",
    "a = 1\n",
    "b = 2.5\n",
    "```"
   ]
  },
  {
   "cell_type": "code",
   "execution_count": null,
   "metadata": {},
   "outputs": [],
   "source": []
  },
  {
   "attachments": {},
   "cell_type": "markdown",
   "metadata": {},
   "source": [
    "Write code for a simple calculator that can only do addition. Your program should take in two numbers and output the sum of the two numbers as output."
   ]
  },
  {
   "cell_type": "code",
   "execution_count": null,
   "metadata": {},
   "outputs": [],
   "source": []
  },
  {
   "attachments": {},
   "cell_type": "markdown",
   "metadata": {},
   "source": [
    "Repeat the above exercise but for multiplication instead of addition."
   ]
  },
  {
   "cell_type": "code",
   "execution_count": null,
   "metadata": {},
   "outputs": [],
   "source": []
  },
  {
   "attachments": {},
   "cell_type": "markdown",
   "metadata": {},
   "source": [
    "Write code for a simple calculator that can do one of the four basic arithmetic operations\n",
    "- multiplication, division, addition and subtraction. \n",
    "\n",
    "Your program should take in two numbers and one of the following operators\n",
    " - *, /, +, -\n",
    " \n",
    "as input and output the result of applying the operator to the two numbers."
   ]
  },
  {
   "cell_type": "code",
   "execution_count": null,
   "metadata": {},
   "outputs": [],
   "source": []
  },
  {
   "attachments": {},
   "cell_type": "markdown",
   "metadata": {},
   "source": [
    "What do the following operators do?\n",
    "\n",
    "- %\n",
    "- **\n",
    "- +=\n",
    "- *=\n",
    "- %="
   ]
  },
  {
   "cell_type": "markdown",
   "metadata": {},
   "source": []
  },
  {
   "cell_type": "markdown",
   "metadata": {},
   "source": []
  }
 ],
 "metadata": {
  "language_info": {
   "name": "python"
  },
  "orig_nbformat": 4
 },
 "nbformat": 4,
 "nbformat_minor": 2
}
