{
 "cells": [
  {
   "attachments": {},
   "cell_type": "markdown",
   "id": "4f223d20",
   "metadata": {
    "papermill": {
     "duration": 0.011861,
     "end_time": "2023-03-28T21:16:10.857325",
     "exception": false,
     "start_time": "2023-03-28T21:16:10.845464",
     "status": "completed"
    },
    "tags": []
   },
   "source": [
    "Write a 5 examples of the `print` function."
   ]
  },
  {
   "cell_type": "code",
   "execution_count": null,
   "id": "fa292fcb",
   "metadata": {
    "papermill": {
     "duration": 0.005814,
     "end_time": "2023-03-28T21:16:10.871564",
     "exception": false,
     "start_time": "2023-03-28T21:16:10.865750",
     "status": "completed"
    },
    "tags": []
   },
   "outputs": [],
   "source": []
  },
  {
   "attachments": {},
   "cell_type": "markdown",
   "id": "7ad624b0",
   "metadata": {
    "papermill": {
     "duration": 0.003715,
     "end_time": "2023-03-28T21:16:10.881306",
     "exception": false,
     "start_time": "2023-03-28T21:16:10.877591",
     "status": "completed"
    },
    "tags": []
   },
   "source": [
    "Write a program that asks you for your name and displays \"Hello [your name]\" to the output."
   ]
  },
  {
   "cell_type": "markdown",
   "id": "953a77f8",
   "metadata": {
    "papermill": {
     "duration": 0.003013,
     "end_time": "2023-03-28T21:16:10.887962",
     "exception": false,
     "start_time": "2023-03-28T21:16:10.884949",
     "status": "completed"
    },
    "tags": []
   },
   "source": []
  },
  {
   "attachments": {},
   "cell_type": "markdown",
   "id": "71f21362",
   "metadata": {
    "papermill": {
     "duration": 0.003011,
     "end_time": "2023-03-28T21:16:10.894077",
     "exception": false,
     "start_time": "2023-03-28T21:16:10.891066",
     "status": "completed"
    },
    "tags": []
   },
   "source": [
    "Write a program that asks you for your name and age and displays \"Hello [Your name]. You are [x] years old\"."
   ]
  },
  {
   "cell_type": "markdown",
   "id": "b6858672",
   "metadata": {
    "papermill": {
     "duration": 0.002892,
     "end_time": "2023-03-28T21:16:10.900020",
     "exception": false,
     "start_time": "2023-03-28T21:16:10.897128",
     "status": "completed"
    },
    "tags": []
   },
   "source": []
  },
  {
   "attachments": {},
   "cell_type": "markdown",
   "id": "a89f5648",
   "metadata": {
    "papermill": {
     "duration": 0.003081,
     "end_time": "2023-03-28T21:16:10.906151",
     "exception": false,
     "start_time": "2023-03-28T21:16:10.903070",
     "status": "completed"
    },
    "tags": []
   },
   "source": [
    "Create a variable named `name` and store your name in that variable. What is the type of this variable? How do you check the type of this variable? How do you add a type annotation to this variable?"
   ]
  },
  {
   "cell_type": "markdown",
   "id": "eeab53a6",
   "metadata": {
    "papermill": {
     "duration": 0.002849,
     "end_time": "2023-03-28T21:16:10.911938",
     "exception": false,
     "start_time": "2023-03-28T21:16:10.909089",
     "status": "completed"
    },
    "tags": []
   },
   "source": []
  },
  {
   "attachments": {},
   "cell_type": "markdown",
   "id": "c5247634",
   "metadata": {
    "papermill": {
     "duration": 0.002942,
     "end_time": "2023-03-28T21:16:10.917932",
     "exception": false,
     "start_time": "2023-03-28T21:16:10.914990",
     "status": "completed"
    },
    "tags": []
   },
   "source": [
    "Given the following python code:\n",
    "\n",
    "```python\n",
    "a = \"Hello\"\n",
    "b = 'Hello\"\n",
    "c = \"\"\"Hello\"\"\"\n",
    "d = '''Hello'''\n",
    "```\n",
    "\n",
    "What is the difference between `a, b, c` and `d`? What would happen if I run the following code?\n",
    "\n",
    "```python\n",
    "print(a == b)\n",
    "print(a == c)\n",
    "print(a == d)\n",
    "```"
   ]
  },
  {
   "cell_type": "markdown",
   "id": "3e3ae065",
   "metadata": {
    "papermill": {
     "duration": 0.003127,
     "end_time": "2023-03-28T21:16:10.923964",
     "exception": false,
     "start_time": "2023-03-28T21:16:10.920837",
     "status": "completed"
    },
    "tags": []
   },
   "source": []
  },
  {
   "attachments": {},
   "cell_type": "markdown",
   "id": "0a7bb862",
   "metadata": {
    "papermill": {
     "duration": 0.003006,
     "end_time": "2023-03-28T21:16:10.930023",
     "exception": false,
     "start_time": "2023-03-28T21:16:10.927017",
     "status": "completed"
    },
    "tags": []
   },
   "source": [
    "Create a variable named `age` and store your age in that variable. What is the type of this variable? How do you add a type annotation to this variable?"
   ]
  },
  {
   "cell_type": "markdown",
   "id": "856c5daf",
   "metadata": {
    "papermill": {
     "duration": 0.003046,
     "end_time": "2023-03-28T21:16:10.936053",
     "exception": false,
     "start_time": "2023-03-28T21:16:10.933007",
     "status": "completed"
    },
    "tags": []
   },
   "source": []
  },
  {
   "attachments": {},
   "cell_type": "markdown",
   "id": "4653e816",
   "metadata": {
    "papermill": {
     "duration": 0.002976,
     "end_time": "2023-03-28T21:16:10.942003",
     "exception": false,
     "start_time": "2023-03-28T21:16:10.939027",
     "status": "completed"
    },
    "tags": []
   },
   "source": [
    "Give some examples of illegal variable names. What error does python raise if you create a variable with an invalid name?"
   ]
  },
  {
   "cell_type": "markdown",
   "id": "71a5db30",
   "metadata": {
    "papermill": {
     "duration": 0.003096,
     "end_time": "2023-03-28T21:16:10.948118",
     "exception": false,
     "start_time": "2023-03-28T21:16:10.945022",
     "status": "completed"
    },
    "tags": []
   },
   "source": []
  },
  {
   "attachments": {},
   "cell_type": "markdown",
   "id": "3ec0b528",
   "metadata": {
    "papermill": {
     "duration": 0.002962,
     "end_time": "2023-03-28T21:16:10.954076",
     "exception": false,
     "start_time": "2023-03-28T21:16:10.951114",
     "status": "completed"
    },
    "tags": []
   },
   "source": [
    "Convert the following strings to numbers (either int or float depending on the number):\n",
    "\n",
    "```python\n",
    "a = 1\n",
    "b = 2.5\n",
    "```"
   ]
  },
  {
   "cell_type": "code",
   "execution_count": null,
   "id": "c2af1e2e",
   "metadata": {
    "papermill": {
     "duration": 0.002941,
     "end_time": "2023-03-28T21:16:10.960071",
     "exception": false,
     "start_time": "2023-03-28T21:16:10.957130",
     "status": "completed"
    },
    "tags": []
   },
   "outputs": [],
   "source": []
  },
  {
   "attachments": {},
   "cell_type": "markdown",
   "id": "44f0e858",
   "metadata": {
    "papermill": {
     "duration": 0.003032,
     "end_time": "2023-03-28T21:16:10.966123",
     "exception": false,
     "start_time": "2023-03-28T21:16:10.963091",
     "status": "completed"
    },
    "tags": []
   },
   "source": [
    "Write code for a simple calculator that can only do addition. Your program should take in two numbers and output the sum of the two numbers as output."
   ]
  },
  {
   "cell_type": "code",
   "execution_count": null,
   "id": "b34680a2",
   "metadata": {
    "papermill": {
     "duration": 0.002897,
     "end_time": "2023-03-28T21:16:10.972086",
     "exception": false,
     "start_time": "2023-03-28T21:16:10.969189",
     "status": "completed"
    },
    "tags": []
   },
   "outputs": [],
   "source": []
  },
  {
   "attachments": {},
   "cell_type": "markdown",
   "id": "77bd0d65",
   "metadata": {
    "papermill": {
     "duration": 0.003037,
     "end_time": "2023-03-28T21:16:10.978161",
     "exception": false,
     "start_time": "2023-03-28T21:16:10.975124",
     "status": "completed"
    },
    "tags": []
   },
   "source": [
    "Repeat the above exercise but for multiplication instead of addition."
   ]
  },
  {
   "cell_type": "code",
   "execution_count": null,
   "id": "e9bf337f",
   "metadata": {
    "papermill": {
     "duration": 0.002869,
     "end_time": "2023-03-28T21:16:10.983911",
     "exception": false,
     "start_time": "2023-03-28T21:16:10.981042",
     "status": "completed"
    },
    "tags": []
   },
   "outputs": [],
   "source": []
  },
  {
   "attachments": {},
   "cell_type": "markdown",
   "id": "ccd7c5d8",
   "metadata": {
    "papermill": {
     "duration": 0.003002,
     "end_time": "2023-03-28T21:16:10.990030",
     "exception": false,
     "start_time": "2023-03-28T21:16:10.987028",
     "status": "completed"
    },
    "tags": []
   },
   "source": [
    "Write code for a simple calculator that can do one of the four basic arithmetic operations\n",
    "- multiplication, division, addition and subtraction. \n",
    "\n",
    "Your program should take in two numbers and one of the following operators\n",
    " - *, /, +, -\n",
    " \n",
    "as input and output the result of applying the operator to the two numbers."
   ]
  },
  {
   "cell_type": "code",
   "execution_count": null,
   "id": "70face91",
   "metadata": {
    "papermill": {
     "duration": 0.002986,
     "end_time": "2023-03-28T21:16:10.996063",
     "exception": false,
     "start_time": "2023-03-28T21:16:10.993077",
     "status": "completed"
    },
    "tags": []
   },
   "outputs": [],
   "source": []
  },
  {
   "attachments": {},
   "cell_type": "markdown",
   "id": "340e3778",
   "metadata": {
    "papermill": {
     "duration": 0.002944,
     "end_time": "2023-03-28T21:16:11.001948",
     "exception": false,
     "start_time": "2023-03-28T21:16:10.999004",
     "status": "completed"
    },
    "tags": []
   },
   "source": [
    "What do the following operators do?\n",
    "\n",
    "- %\n",
    "- **\n",
    "- +=\n",
    "- *=\n",
    "- %="
   ]
  },
  {
   "cell_type": "markdown",
   "id": "de895da2",
   "metadata": {
    "papermill": {
     "duration": 0.002923,
     "end_time": "2023-03-28T21:16:11.007801",
     "exception": false,
     "start_time": "2023-03-28T21:16:11.004878",
     "status": "completed"
    },
    "tags": []
   },
   "source": []
  },
  {
   "cell_type": "markdown",
   "id": "57b3bf22",
   "metadata": {
    "papermill": {
     "duration": 0.002961,
     "end_time": "2023-03-28T21:16:11.013753",
     "exception": false,
     "start_time": "2023-03-28T21:16:11.010792",
     "status": "completed"
    },
    "tags": []
   },
   "source": []
  }
 ],
 "metadata": {
  "language_info": {
   "codemirror_mode": {
    "name": "ipython",
    "version": 3
   },
   "file_extension": ".py",
   "mimetype": "text/x-python",
   "name": "python",
   "nbconvert_exporter": "python",
   "pygments_lexer": "ipython3",
   "version": "3.10.10"
  },
  "papermill": {
   "default_parameters": {},
   "duration": 1.744043,
   "end_time": "2023-03-28T21:16:11.241521",
   "environment_variables": {},
   "exception": null,
   "input_path": "/home/aditya-ws/workspace/personal/teach/pythonpractice/notebooks/basics.ipynb",
   "output_path": "/home/aditya-ws/workspace/personal/teach/pythonpractice/notebooks/basics.ipynb",
   "parameters": {},
   "start_time": "2023-03-28T21:16:09.497478",
   "version": "2.4.0"
  }
 },
 "nbformat": 4,
 "nbformat_minor": 5
}